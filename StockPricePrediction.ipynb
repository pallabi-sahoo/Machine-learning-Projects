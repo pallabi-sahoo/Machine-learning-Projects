{
 "cells": [
  {
   "cell_type": "code",
   "execution_count": 1,
   "metadata": {},
   "outputs": [],
   "source": [
    "# importing all the libraries\n",
    "import numpy as np\n",
    "import pandas as pd\n",
    "from sklearn.linear_model import LinearRegression\n",
    "from sklearn.model_selection import train_test_split\n",
    "from sklearn import preprocessing"
   ]
  },
  {
   "cell_type": "code",
   "execution_count": 2,
   "metadata": {},
   "outputs": [],
   "source": [
    "def prepare_data(df,forecast_col,forecast_out,test_size):\n",
    "    label = df[forecast_col].shift(-forecast_out) #creating new column called label with the last 5 rows are nan\n",
    "    X = np.array(df[[forecast_col]]) #creating the feature array\n",
    "    X = preprocessing.scale(X) #processing the feature array\n",
    "    X_lately = X[-forecast_out:] #creating the column i want to use later in the predicting method\n",
    "    X = X[:-forecast_out] # X that will contain the training and testing\n",
    "    label.dropna(inplace=True) #dropping na values\n",
    "    y = np.array(label)  # assigning Y\n",
    "    X_train, X_test, Y_train, Y_test = train_test_split(X, y, test_size=test_size, random_state=0) #cross validation\n",
    "\n",
    "    response = [X_train,X_test , Y_train, Y_test , X_lately]\n",
    "    return response"
   ]
  },
  {
   "cell_type": "code",
   "execution_count": 3,
   "metadata": {},
   "outputs": [],
   "source": [
    "#defining dataset\n",
    "df=pd.read_csv('AAPL.csv')\n",
    "df=df[df.symbol == \"AAPL\"]"
   ]
  },
  {
   "cell_type": "code",
   "execution_count": 4,
   "metadata": {},
   "outputs": [
    {
     "data": {
      "text/html": [
       "<div>\n",
       "<style scoped>\n",
       "    .dataframe tbody tr th:only-of-type {\n",
       "        vertical-align: middle;\n",
       "    }\n",
       "\n",
       "    .dataframe tbody tr th {\n",
       "        vertical-align: top;\n",
       "    }\n",
       "\n",
       "    .dataframe thead th {\n",
       "        text-align: right;\n",
       "    }\n",
       "</style>\n",
       "<table border=\"1\" class=\"dataframe\">\n",
       "  <thead>\n",
       "    <tr style=\"text-align: right;\">\n",
       "      <th></th>\n",
       "      <th>symbol</th>\n",
       "      <th>date</th>\n",
       "      <th>close</th>\n",
       "      <th>high</th>\n",
       "      <th>low</th>\n",
       "      <th>open</th>\n",
       "      <th>volume</th>\n",
       "      <th>adjClose</th>\n",
       "      <th>adjHigh</th>\n",
       "      <th>adjLow</th>\n",
       "      <th>adjOpen</th>\n",
       "      <th>adjVolume</th>\n",
       "      <th>divCash</th>\n",
       "      <th>splitFactor</th>\n",
       "    </tr>\n",
       "  </thead>\n",
       "  <tbody>\n",
       "    <tr>\n",
       "      <th>0</th>\n",
       "      <td>AAPL</td>\n",
       "      <td>2016-01-08 00:00:00+00:00</td>\n",
       "      <td>96.96</td>\n",
       "      <td>99.11</td>\n",
       "      <td>96.7600</td>\n",
       "      <td>98.55</td>\n",
       "      <td>70798016</td>\n",
       "      <td>22.454829</td>\n",
       "      <td>22.952744</td>\n",
       "      <td>22.408511</td>\n",
       "      <td>22.823055</td>\n",
       "      <td>283192064</td>\n",
       "      <td>0.0</td>\n",
       "      <td>1.0</td>\n",
       "    </tr>\n",
       "    <tr>\n",
       "      <th>1</th>\n",
       "      <td>AAPL</td>\n",
       "      <td>2016-01-11 00:00:00+00:00</td>\n",
       "      <td>98.53</td>\n",
       "      <td>99.06</td>\n",
       "      <td>97.3400</td>\n",
       "      <td>98.97</td>\n",
       "      <td>49739377</td>\n",
       "      <td>22.818423</td>\n",
       "      <td>22.941165</td>\n",
       "      <td>22.542833</td>\n",
       "      <td>22.920322</td>\n",
       "      <td>198957508</td>\n",
       "      <td>0.0</td>\n",
       "      <td>1.0</td>\n",
       "    </tr>\n",
       "    <tr>\n",
       "      <th>2</th>\n",
       "      <td>AAPL</td>\n",
       "      <td>2016-01-12 00:00:00+00:00</td>\n",
       "      <td>99.96</td>\n",
       "      <td>100.69</td>\n",
       "      <td>98.8399</td>\n",
       "      <td>100.55</td>\n",
       "      <td>49154227</td>\n",
       "      <td>23.149595</td>\n",
       "      <td>23.318654</td>\n",
       "      <td>22.890192</td>\n",
       "      <td>23.286232</td>\n",
       "      <td>196616908</td>\n",
       "      <td>0.0</td>\n",
       "      <td>1.0</td>\n",
       "    </tr>\n",
       "    <tr>\n",
       "      <th>3</th>\n",
       "      <td>AAPL</td>\n",
       "      <td>2016-01-13 00:00:00+00:00</td>\n",
       "      <td>97.39</td>\n",
       "      <td>101.19</td>\n",
       "      <td>97.3000</td>\n",
       "      <td>100.32</td>\n",
       "      <td>62439631</td>\n",
       "      <td>22.554412</td>\n",
       "      <td>23.434449</td>\n",
       "      <td>22.533569</td>\n",
       "      <td>23.232967</td>\n",
       "      <td>249758524</td>\n",
       "      <td>0.0</td>\n",
       "      <td>1.0</td>\n",
       "    </tr>\n",
       "    <tr>\n",
       "      <th>4</th>\n",
       "      <td>AAPL</td>\n",
       "      <td>2016-01-14 00:00:00+00:00</td>\n",
       "      <td>99.52</td>\n",
       "      <td>100.48</td>\n",
       "      <td>95.7400</td>\n",
       "      <td>97.96</td>\n",
       "      <td>63170127</td>\n",
       "      <td>23.047696</td>\n",
       "      <td>23.270021</td>\n",
       "      <td>22.172291</td>\n",
       "      <td>22.686417</td>\n",
       "      <td>252680508</td>\n",
       "      <td>0.0</td>\n",
       "      <td>1.0</td>\n",
       "    </tr>\n",
       "  </tbody>\n",
       "</table>\n",
       "</div>"
      ],
      "text/plain": [
       "  symbol                       date  close    high      low    open    volume  \\\n",
       "0   AAPL  2016-01-08 00:00:00+00:00  96.96   99.11  96.7600   98.55  70798016   \n",
       "1   AAPL  2016-01-11 00:00:00+00:00  98.53   99.06  97.3400   98.97  49739377   \n",
       "2   AAPL  2016-01-12 00:00:00+00:00  99.96  100.69  98.8399  100.55  49154227   \n",
       "3   AAPL  2016-01-13 00:00:00+00:00  97.39  101.19  97.3000  100.32  62439631   \n",
       "4   AAPL  2016-01-14 00:00:00+00:00  99.52  100.48  95.7400   97.96  63170127   \n",
       "\n",
       "    adjClose    adjHigh     adjLow    adjOpen  adjVolume  divCash  splitFactor  \n",
       "0  22.454829  22.952744  22.408511  22.823055  283192064      0.0          1.0  \n",
       "1  22.818423  22.941165  22.542833  22.920322  198957508      0.0          1.0  \n",
       "2  23.149595  23.318654  22.890192  23.286232  196616908      0.0          1.0  \n",
       "3  22.554412  23.434449  22.533569  23.232967  249758524      0.0          1.0  \n",
       "4  23.047696  23.270021  22.172291  22.686417  252680508      0.0          1.0  "
      ]
     },
     "execution_count": 4,
     "metadata": {},
     "output_type": "execute_result"
    }
   ],
   "source": [
    "df.head()"
   ]
  },
  {
   "cell_type": "code",
   "execution_count": 5,
   "metadata": {},
   "outputs": [],
   "source": [
    "# declairing Variable\n",
    "forecast_col='close'\n",
    "forecast_out=5\n",
    "test_size=0.2"
   ]
  },
  {
   "cell_type": "code",
   "execution_count": 6,
   "metadata": {},
   "outputs": [],
   "source": [
    "# calling the method\n",
    "X_train,X_test,y_train,y_test,X_lately=prepare_data(df,forecast_col,forecast_out,test_size);"
   ]
  },
  {
   "cell_type": "code",
   "execution_count": 7,
   "metadata": {},
   "outputs": [
    {
     "data": {
      "text/plain": [
       "LinearRegression()"
      ]
     },
     "execution_count": 7,
     "metadata": {},
     "output_type": "execute_result"
    }
   ],
   "source": [
    "linear=LinearRegression() #Intializing Linear Regression model\n",
    "linear.fit(X_train,y_train) # Fitting the model to the training data"
   ]
  },
  {
   "cell_type": "code",
   "execution_count": 8,
   "metadata": {},
   "outputs": [
    {
     "name": "stdout",
     "output_type": "stream",
     "text": [
      "{'score': 0.8969882928727511, 'forecast': array([137.68205625, 136.59260838, 135.61684204, 132.50954726,\n",
      "       134.02530081])}\n"
     ]
    }
   ],
   "source": [
    "score=linear.score(X_test,y_test) # testing the linear regression model\n",
    "forecast=linear.predict(X_lately) # future forecast values\n",
    "json={} ## Creating json\n",
    "json['score']=score\n",
    "json['forecast']=forecast\n",
    "print(json)"
   ]
  },
  {
   "cell_type": "code",
   "execution_count": null,
   "metadata": {},
   "outputs": [],
   "source": []
  }
 ],
 "metadata": {
  "kernelspec": {
   "display_name": "Python 3",
   "language": "python",
   "name": "python3"
  },
  "language_info": {
   "codemirror_mode": {
    "name": "ipython",
    "version": 3
   },
   "file_extension": ".py",
   "mimetype": "text/x-python",
   "name": "python",
   "nbconvert_exporter": "python",
   "pygments_lexer": "ipython3",
   "version": "3.8.5"
  }
 },
 "nbformat": 4,
 "nbformat_minor": 4
}
